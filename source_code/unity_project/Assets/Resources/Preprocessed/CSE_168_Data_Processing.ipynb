{
  "nbformat": 4,
  "nbformat_minor": 0,
  "metadata": {
    "colab": {
      "provenance": [],
      "collapsed_sections": [
        "SQOsNcdYfLC5",
        "hvdsyNcnfS0J"
      ]
    },
    "kernelspec": {
      "name": "python3",
      "display_name": "Python 3"
    },
    "language_info": {
      "name": "python"
    }
  },
  "cells": [
    {
      "cell_type": "code",
      "execution_count": 3,
      "metadata": {
        "id": "wh0qZrP8Vhow"
      },
      "outputs": [],
      "source": [
        "import numpy as np\n",
        "import json"
      ]
    },
    {
      "cell_type": "markdown",
      "source": [
        "# Setting Up Functions"
      ],
      "metadata": {
        "id": "SQOsNcdYfLC5"
      }
    },
    {
      "cell_type": "code",
      "source": [
        "def downscale(data, factor):\n",
        "  downscaled = data.reshape(data.shape[0] // factor, factor,\n",
        "                            data.shape[1] // factor, factor,\n",
        "                            data.shape[2] // factor, factor).mean(axis=5)\n",
        "  downscaled = downscaled.mean(axis=3)\n",
        "  downscaled = downscaled.mean(axis=1)\n",
        "  return downscaled"
      ],
      "metadata": {
        "id": "W8n-snAer4ZX"
      },
      "execution_count": 4,
      "outputs": []
    },
    {
      "cell_type": "code",
      "source": [
        "def downscale_by_skipping(data, factor):\n",
        "  new_size = (data.shape[0] // factor) * (data.shape[1] // factor) * (data.shape[2] // factor)\n",
        "  downscaled = data.flatten()[::pow(factor, 3)][:new_size].reshape(data.shape[0] // factor,\n",
        "                                                                   data.shape[1] // factor,\n",
        "                                                                   data.shape[2] // factor)\n",
        "  return downscaled"
      ],
      "metadata": {
        "id": "m1Ti6EH1A9pL"
      },
      "execution_count": 5,
      "outputs": []
    },
    {
      "cell_type": "markdown",
      "source": [
        "# Head Scan"
      ],
      "metadata": {
        "id": "hvdsyNcnfS0J"
      }
    },
    {
      "cell_type": "markdown",
      "source": [
        "## Normal"
      ],
      "metadata": {
        "id": "tiPdNBbLfW8l"
      }
    },
    {
      "cell_type": "code",
      "source": [
        "scans = []\n",
        "for i in range(112, 0, -1):\n",
        "  scan = np.fromfile(f\"./skull/CThead{i}.txt\", dtype=\">u2\")\n",
        "  scan = scan.reshape(256, 256)\n",
        "  scans.append(scan)\n",
        "\n",
        "full_data = np.array(scans, dtype=\">u2\")"
      ],
      "metadata": {
        "id": "4ivx4uUVmxUD"
      },
      "execution_count": null,
      "outputs": []
    },
    {
      "cell_type": "code",
      "source": [
        "downscaled = downscale(full_data, 4)\n",
        "downscaled = (downscaled - downscaled.min()) / (downscaled.max() - downscaled.min())\n",
        "l = list(downscaled.flatten())\n",
        "json_output = json.dumps({\n",
        "    \"dimensions\": list(downscaled.shape),\n",
        "    \"data\":l\n",
        "})\n",
        "output = open(\"./skullData.json\", \"w\")\n",
        "output.write(json_output)\n",
        "output.close()"
      ],
      "metadata": {
        "id": "7b9LPBXrh--2"
      },
      "execution_count": null,
      "outputs": []
    },
    {
      "cell_type": "markdown",
      "source": [
        "## Z-Scores"
      ],
      "metadata": {
        "id": "bdafq0crf2OQ"
      }
    },
    {
      "cell_type": "code",
      "source": [
        "flattened = full_data.flatten()\n",
        "original_shape = full_data.shape\n",
        "non_zero_mean = flattened[flattened > 0].mean()\n",
        "non_zero_std = flattened[flattened > 0].std()\n",
        "full_data_z_scores = (full_data - non_zero_mean) / non_zero_std\n",
        "zero_z_score = -non_zero_mean / non_zero_std\n",
        "\n",
        "flattened_z_scores = full_data_z_scores.flatten()\n",
        "flattened_z_scores[flattened_z_scores == zero_z_score] = 0\n",
        "full_data_z_scores = flattened_z_scores.reshape(original_shape)\n",
        "full_data_z_scores.shape"
      ],
      "metadata": {
        "colab": {
          "base_uri": "https://localhost:8080/"
        },
        "id": "bJCk8tKTfeU-",
        "outputId": "e839c3e3-630c-4a23-8cf4-22e4ea2e40ee"
      },
      "execution_count": null,
      "outputs": [
        {
          "output_type": "execute_result",
          "data": {
            "text/plain": [
              "(112, 256, 256)"
            ]
          },
          "metadata": {},
          "execution_count": 6
        }
      ]
    },
    {
      "cell_type": "code",
      "source": [
        "downscaled = downscale(full_data_z_scores, 4)\n",
        "downscaled = (downscaled - downscaled.min()) / (downscaled.max() - downscaled.min())\n",
        "downscaled = downscaled ** 2\n",
        "l = list(downscaled.flatten())\n",
        "json_output = json.dumps({\n",
        "    \"dimensions\": list(downscaled.shape),\n",
        "    \"data\":l\n",
        "})\n",
        "output = open(\"./skullDataZScores.json\", \"w\")\n",
        "output.write(json_output)\n",
        "output.close()"
      ],
      "metadata": {
        "id": "4I_k09yJiAvN"
      },
      "execution_count": null,
      "outputs": []
    },
    {
      "cell_type": "markdown",
      "source": [
        "# Terracotta Bunny"
      ],
      "metadata": {
        "id": "BUeyGty-O-6o"
      }
    },
    {
      "cell_type": "markdown",
      "source": [
        "## Normal"
      ],
      "metadata": {
        "id": "iXLpAwRnPxLO"
      }
    },
    {
      "cell_type": "code",
      "source": [
        "scans = []\n",
        "for i in range(360, 0, -1):\n",
        "  scan = np.fromfile(f\"./bunny_data/{i}\", dtype=\">u2\")\n",
        "  scan = scan.reshape(512, 512)\n",
        "  scans.append(scan)\n",
        "\n",
        "full_data = np.array(scans, dtype=\">u2\")"
      ],
      "metadata": {
        "id": "u67OEME_PvQn"
      },
      "execution_count": 9,
      "outputs": []
    },
    {
      "cell_type": "code",
      "source": [
        "full_data[full_data == full_data.max()] = 0"
      ],
      "metadata": {
        "id": "oFtf2dT4Y7Vu"
      },
      "execution_count": 10,
      "outputs": []
    },
    {
      "cell_type": "code",
      "source": [
        "downscaled = downscale(full_data, 8)\n",
        "downscaled = (downscaled - downscaled.min()) / (downscaled.max() - downscaled.min())\n",
        "l = list(downscaled.flatten())\n",
        "json_output = json.dumps({\n",
        "    \"dimensions\": list(downscaled.shape),\n",
        "    \"data\":l\n",
        "})\n",
        "output = open(\"./bunnyData.json\", \"w\")\n",
        "output.write(json_output)\n",
        "output.close()"
      ],
      "metadata": {
        "id": "v04n38CRP2qP"
      },
      "execution_count": 11,
      "outputs": []
    }
  ]
}